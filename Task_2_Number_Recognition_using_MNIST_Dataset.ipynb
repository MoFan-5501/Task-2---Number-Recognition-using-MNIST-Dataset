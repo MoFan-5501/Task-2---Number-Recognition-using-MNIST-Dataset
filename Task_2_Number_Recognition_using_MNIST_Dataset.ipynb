{
  "nbformat": 4,
  "nbformat_minor": 0,
  "metadata": {
    "colab": {
      "provenance": []
    },
    "kernelspec": {
      "name": "python3",
      "display_name": "Python 3"
    },
    "language_info": {
      "name": "python"
    }
  },
  "cells": [
    {
      "cell_type": "markdown",
      "source": [
        "## Task 2 : Number Recognition using MNIST Dataset\n",
        "\n",
        "\n",
        "![download (2).png](data:image/png;base64,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)\n",
        "\n"
      ],
      "metadata": {
        "id": "NG_JlZ3V1Bor"
      }
    },
    {
      "cell_type": "markdown",
      "source": [
        "#### Done by : Umesh Chandra Srirangam 👨‍💼\n",
        "#### Dataset Used : MNIST Number Recognition\n",
        "#### Domain : Data Science 📊\n",
        "#### Tools used\n",
        "1.   Google Colab 🖥️\n",
        "2.   Python Libraries\n",
        "        *   NumPy 🧮\n",
        "        *   Pandas 🐼\n",
        "        *   Tensorflow 🤖\n",
        "        *   Matplotlib 📈\n"
      ],
      "metadata": {
        "id": "lJpocvBCnTxy"
      }
    },
    {
      "cell_type": "code",
      "execution_count": null,
      "metadata": {
        "id": "OVBZ1Zti_Len"
      },
      "outputs": [],
      "source": [
        "import tensorflow as tf\n",
        "from tensorflow import keras\n",
        "import matplotlib.pyplot as plt\n",
        "import numpy as np"
      ]
    },
    {
      "cell_type": "markdown",
      "source": [
        "#### Let us import our dataset from Database of Keras Library.\n",
        "#### The dataset we are going to use today is MNIST(Modified National Institute of Standards and Technology database)."
      ],
      "metadata": {
        "id": "WGC6NFrtiCIB"
      }
    },
    {
      "cell_type": "code",
      "source": [
        "(X_train,y_train),(X_test,y_test)=keras.datasets.mnist.load_data()"
      ],
      "metadata": {
        "id": "PLjAuSci_ZB5"
      },
      "execution_count": null,
      "outputs": []
    },
    {
      "cell_type": "code",
      "source": [
        "len(X_train)"
      ],
      "metadata": {
        "colab": {
          "base_uri": "https://localhost:8080/"
        },
        "id": "8vuunOVp_ihC",
        "outputId": "de4dc6a3-a962-480a-81e9-51648d978442"
      },
      "execution_count": null,
      "outputs": [
        {
          "output_type": "execute_result",
          "data": {
            "text/plain": [
              "60000"
            ]
          },
          "metadata": {},
          "execution_count": 28
        }
      ]
    },
    {
      "cell_type": "code",
      "source": [
        "len(X_test)"
      ],
      "metadata": {
        "colab": {
          "base_uri": "https://localhost:8080/"
        },
        "id": "zRw4fcyq_oRW",
        "outputId": "e4c9fe98-eee6-4bd2-81e5-300f3a04077e"
      },
      "execution_count": null,
      "outputs": [
        {
          "output_type": "execute_result",
          "data": {
            "text/plain": [
              "10000"
            ]
          },
          "metadata": {},
          "execution_count": 29
        }
      ]
    },
    {
      "cell_type": "code",
      "source": [
        "X_train[0].shape"
      ],
      "metadata": {
        "colab": {
          "base_uri": "https://localhost:8080/"
        },
        "id": "tw2PYeq3_plf",
        "outputId": "ef293c5d-531b-4cab-f170-8775342eec9f"
      },
      "execution_count": null,
      "outputs": [
        {
          "output_type": "execute_result",
          "data": {
            "text/plain": [
              "(28, 28)"
            ]
          },
          "metadata": {},
          "execution_count": 30
        }
      ]
    },
    {
      "cell_type": "code",
      "source": [
        "X_train[0]"
      ],
      "metadata": {
        "colab": {
          "base_uri": "https://localhost:8080/"
        },
        "id": "JgLuH6L5AGMW",
        "outputId": "e5f48608-aa67-47b0-c4a4-afa293fac3b9"
      },
      "execution_count": null,
      "outputs": [
        {
          "output_type": "execute_result",
          "data": {
            "text/plain": [
              "array([[  0,   0,   0,   0,   0,   0,   0,   0,   0,   0,   0,   0,   0,\n",
              "          0,   0,   0,   0,   0,   0,   0,   0,   0,   0,   0,   0,   0,\n",
              "          0,   0],\n",
              "       [  0,   0,   0,   0,   0,   0,   0,   0,   0,   0,   0,   0,   0,\n",
              "          0,   0,   0,   0,   0,   0,   0,   0,   0,   0,   0,   0,   0,\n",
              "          0,   0],\n",
              "       [  0,   0,   0,   0,   0,   0,   0,   0,   0,   0,   0,   0,   0,\n",
              "          0,   0,   0,   0,   0,   0,   0,   0,   0,   0,   0,   0,   0,\n",
              "          0,   0],\n",
              "       [  0,   0,   0,   0,   0,   0,   0,   0,   0,   0,   0,   0,   0,\n",
              "          0,   0,   0,   0,   0,   0,   0,   0,   0,   0,   0,   0,   0,\n",
              "          0,   0],\n",
              "       [  0,   0,   0,   0,   0,   0,   0,   0,   0,   0,   0,   0,   0,\n",
              "          0,   0,   0,   0,   0,   0,   0,   0,   0,   0,   0,   0,   0,\n",
              "          0,   0],\n",
              "       [  0,   0,   0,   0,   0,   0,   0,   0,   0,   0,   0,   0,   3,\n",
              "         18,  18,  18, 126, 136, 175,  26, 166, 255, 247, 127,   0,   0,\n",
              "          0,   0],\n",
              "       [  0,   0,   0,   0,   0,   0,   0,   0,  30,  36,  94, 154, 170,\n",
              "        253, 253, 253, 253, 253, 225, 172, 253, 242, 195,  64,   0,   0,\n",
              "          0,   0],\n",
              "       [  0,   0,   0,   0,   0,   0,   0,  49, 238, 253, 253, 253, 253,\n",
              "        253, 253, 253, 253, 251,  93,  82,  82,  56,  39,   0,   0,   0,\n",
              "          0,   0],\n",
              "       [  0,   0,   0,   0,   0,   0,   0,  18, 219, 253, 253, 253, 253,\n",
              "        253, 198, 182, 247, 241,   0,   0,   0,   0,   0,   0,   0,   0,\n",
              "          0,   0],\n",
              "       [  0,   0,   0,   0,   0,   0,   0,   0,  80, 156, 107, 253, 253,\n",
              "        205,  11,   0,  43, 154,   0,   0,   0,   0,   0,   0,   0,   0,\n",
              "          0,   0],\n",
              "       [  0,   0,   0,   0,   0,   0,   0,   0,   0,  14,   1, 154, 253,\n",
              "         90,   0,   0,   0,   0,   0,   0,   0,   0,   0,   0,   0,   0,\n",
              "          0,   0],\n",
              "       [  0,   0,   0,   0,   0,   0,   0,   0,   0,   0,   0, 139, 253,\n",
              "        190,   2,   0,   0,   0,   0,   0,   0,   0,   0,   0,   0,   0,\n",
              "          0,   0],\n",
              "       [  0,   0,   0,   0,   0,   0,   0,   0,   0,   0,   0,  11, 190,\n",
              "        253,  70,   0,   0,   0,   0,   0,   0,   0,   0,   0,   0,   0,\n",
              "          0,   0],\n",
              "       [  0,   0,   0,   0,   0,   0,   0,   0,   0,   0,   0,   0,  35,\n",
              "        241, 225, 160, 108,   1,   0,   0,   0,   0,   0,   0,   0,   0,\n",
              "          0,   0],\n",
              "       [  0,   0,   0,   0,   0,   0,   0,   0,   0,   0,   0,   0,   0,\n",
              "         81, 240, 253, 253, 119,  25,   0,   0,   0,   0,   0,   0,   0,\n",
              "          0,   0],\n",
              "       [  0,   0,   0,   0,   0,   0,   0,   0,   0,   0,   0,   0,   0,\n",
              "          0,  45, 186, 253, 253, 150,  27,   0,   0,   0,   0,   0,   0,\n",
              "          0,   0],\n",
              "       [  0,   0,   0,   0,   0,   0,   0,   0,   0,   0,   0,   0,   0,\n",
              "          0,   0,  16,  93, 252, 253, 187,   0,   0,   0,   0,   0,   0,\n",
              "          0,   0],\n",
              "       [  0,   0,   0,   0,   0,   0,   0,   0,   0,   0,   0,   0,   0,\n",
              "          0,   0,   0,   0, 249, 253, 249,  64,   0,   0,   0,   0,   0,\n",
              "          0,   0],\n",
              "       [  0,   0,   0,   0,   0,   0,   0,   0,   0,   0,   0,   0,   0,\n",
              "          0,  46, 130, 183, 253, 253, 207,   2,   0,   0,   0,   0,   0,\n",
              "          0,   0],\n",
              "       [  0,   0,   0,   0,   0,   0,   0,   0,   0,   0,   0,   0,  39,\n",
              "        148, 229, 253, 253, 253, 250, 182,   0,   0,   0,   0,   0,   0,\n",
              "          0,   0],\n",
              "       [  0,   0,   0,   0,   0,   0,   0,   0,   0,   0,  24, 114, 221,\n",
              "        253, 253, 253, 253, 201,  78,   0,   0,   0,   0,   0,   0,   0,\n",
              "          0,   0],\n",
              "       [  0,   0,   0,   0,   0,   0,   0,   0,  23,  66, 213, 253, 253,\n",
              "        253, 253, 198,  81,   2,   0,   0,   0,   0,   0,   0,   0,   0,\n",
              "          0,   0],\n",
              "       [  0,   0,   0,   0,   0,   0,  18, 171, 219, 253, 253, 253, 253,\n",
              "        195,  80,   9,   0,   0,   0,   0,   0,   0,   0,   0,   0,   0,\n",
              "          0,   0],\n",
              "       [  0,   0,   0,   0,  55, 172, 226, 253, 253, 253, 253, 244, 133,\n",
              "         11,   0,   0,   0,   0,   0,   0,   0,   0,   0,   0,   0,   0,\n",
              "          0,   0],\n",
              "       [  0,   0,   0,   0, 136, 253, 253, 253, 212, 135, 132,  16,   0,\n",
              "          0,   0,   0,   0,   0,   0,   0,   0,   0,   0,   0,   0,   0,\n",
              "          0,   0],\n",
              "       [  0,   0,   0,   0,   0,   0,   0,   0,   0,   0,   0,   0,   0,\n",
              "          0,   0,   0,   0,   0,   0,   0,   0,   0,   0,   0,   0,   0,\n",
              "          0,   0],\n",
              "       [  0,   0,   0,   0,   0,   0,   0,   0,   0,   0,   0,   0,   0,\n",
              "          0,   0,   0,   0,   0,   0,   0,   0,   0,   0,   0,   0,   0,\n",
              "          0,   0],\n",
              "       [  0,   0,   0,   0,   0,   0,   0,   0,   0,   0,   0,   0,   0,\n",
              "          0,   0,   0,   0,   0,   0,   0,   0,   0,   0,   0,   0,   0,\n",
              "          0,   0]], dtype=uint8)"
            ]
          },
          "metadata": {},
          "execution_count": 31
        }
      ]
    },
    {
      "cell_type": "markdown",
      "source": [
        "#### As we can see above the each element of the array is pixel of a 28*28 image.\n",
        "####Inorder to display it as an image we'll use Matplotlib's 'matshow' feature."
      ],
      "metadata": {
        "id": "hubLSnMJiYtx"
      }
    },
    {
      "cell_type": "code",
      "source": [
        "plt.matshow(X_train[0],cmap='binary')\n",
        "plt.show()"
      ],
      "metadata": {
        "colab": {
          "base_uri": "https://localhost:8080/",
          "height": 437
        },
        "id": "1OVvaD_pAIr1",
        "outputId": "7f31b172-db09-4af7-b667-a9ab47e2ac11"
      },
      "execution_count": null,
      "outputs": [
        {
          "output_type": "display_data",
          "data": {
            "text/plain": [
              "<Figure size 480x480 with 1 Axes>"
            ],
            "image/png": "[encoded data removed]"
          },
          "metadata": {}
        }
      ]
    },
    {
      "cell_type": "code",
      "source": [
        "y_train[0]"
      ],
      "metadata": {
        "colab": {
          "base_uri": "https://localhost:8080/"
        },
        "id": "XWMM7F0EAOyZ",
        "outputId": "379e592a-e61c-4c7d-f651-2689180ee8fc"
      },
      "execution_count": null,
      "outputs": [
        {
          "output_type": "execute_result",
          "data": {
            "text/plain": [
              "5"
            ]
          },
          "metadata": {},
          "execution_count": 33
        }
      ]
    },
    {
      "cell_type": "code",
      "source": [
        "X_train.shape"
      ],
      "metadata": {
        "colab": {
          "base_uri": "https://localhost:8080/"
        },
        "id": "VxnRvBEOATFN",
        "outputId": "5d22bf4f-92c0-450d-cdf2-cb02e26265f7"
      },
      "execution_count": null,
      "outputs": [
        {
          "output_type": "execute_result",
          "data": {
            "text/plain": [
              "(60000, 28, 28)"
            ]
          },
          "metadata": {},
          "execution_count": 34
        }
      ]
    },
    {
      "cell_type": "markdown",
      "source": [
        "#### Before we get started we'll scale our elements in the range of [0,1].\n",
        "#### For that , we'll divide all the elements of the train and test dataset by 255"
      ],
      "metadata": {
        "id": "n7gP2_Shi0e1"
      }
    },
    {
      "cell_type": "code",
      "source": [
        "X_train=X_train/255\n",
        "X_test=X_test/255"
      ],
      "metadata": {
        "id": "ofB-T_edCU_m"
      },
      "execution_count": null,
      "outputs": []
    },
    {
      "cell_type": "markdown",
      "source": [
        "#### Let us flatten the array inorder to feed it to the Neural Network."
      ],
      "metadata": {
        "id": "2WA47q4NjD2y"
      }
    },
    {
      "cell_type": "code",
      "source": [
        "X_train_flattend = X_train.reshape(len(X_train),28*28)\n",
        "X_test_flattend=X_test.reshape(len(X_test),28*28)"
      ],
      "metadata": {
        "id": "V9JRBwhVAbdg"
      },
      "execution_count": null,
      "outputs": []
    },
    {
      "cell_type": "code",
      "source": [
        "X_train_flattend.shape"
      ],
      "metadata": {
        "colab": {
          "base_uri": "https://localhost:8080/"
        },
        "id": "dUnRixv5ArcO",
        "outputId": "8a30e831-3610-4b5b-f14d-ddb33265fd72"
      },
      "execution_count": null,
      "outputs": [
        {
          "output_type": "execute_result",
          "data": {
            "text/plain": [
              "(60000, 784)"
            ]
          },
          "metadata": {},
          "execution_count": 37
        }
      ]
    },
    {
      "cell_type": "code",
      "source": [
        "X_train_flattend"
      ],
      "metadata": {
        "colab": {
          "base_uri": "https://localhost:8080/"
        },
        "id": "Z5fQSL0rAwaO",
        "outputId": "11411b90-c967-4b3c-a4e4-c32e72db7dc8"
      },
      "execution_count": null,
      "outputs": [
        {
          "output_type": "execute_result",
          "data": {
            "text/plain": [
              "array([[0., 0., 0., ..., 0., 0., 0.],\n",
              "       [0., 0., 0., ..., 0., 0., 0.],\n",
              "       [0., 0., 0., ..., 0., 0., 0.],\n",
              "       ...,\n",
              "       [0., 0., 0., ..., 0., 0., 0.],\n",
              "       [0., 0., 0., ..., 0., 0., 0.],\n",
              "       [0., 0., 0., ..., 0., 0., 0.]])"
            ]
          },
          "metadata": {},
          "execution_count": 38
        }
      ]
    },
    {
      "cell_type": "markdown",
      "source": [
        "#### Here we considered a Sequential set of neurons.\n",
        "#### In the first layer , we considered all the 784 elements of the array.\n",
        "![deepl.png](data:image/png;base64,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)\n",
        "\n",
        "#### We'll have two hidden layers , where we'll further deduce the individual features of the image and identify it's features individually."
      ],
      "metadata": {
        "id": "zpxQHwQuLC-D"
      }
    },
    {
      "cell_type": "markdown",
      "source": [
        "#### We'll train our model using a Simple Sequential Neural Network , where we use sigmoid function to activate a Dense layer of neurons and map them.\n",
        "\n",
        "![download (1).png](data:image/png;base64,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)"
      ],
      "metadata": {
        "id": "dWULY_JSjoUv"
      }
    },
    {
      "cell_type": "code",
      "source": [
        "model = keras.Sequential([\n",
        "    keras.layers.Dense(10,input_shape=(784,),activation='sigmoid')\n",
        "])\n",
        "model.compile(optimizer='adam',loss='sparse_categorical_crossentropy',metrics=['accuracy'])\n",
        "model.fit(X_train_flattend,y_train,epochs=5)"
      ],
      "metadata": {
        "colab": {
          "base_uri": "https://localhost:8080/"
        },
        "id": "EiffORj8Azfj",
        "outputId": "0108dc21-6538-42f9-88ec-c530f1e3141d"
      },
      "execution_count": null,
      "outputs": [
        {
          "output_type": "stream",
          "name": "stdout",
          "text": [
            "Epoch 1/5\n",
            "1875/1875 [==============================] - 3s 1ms/step - loss: 0.4646 - accuracy: 0.8808\n",
            "Epoch 2/5\n",
            "1875/1875 [==============================] - 2s 1ms/step - loss: 0.3034 - accuracy: 0.9156\n",
            "Epoch 3/5\n",
            "1875/1875 [==============================] - 2s 1ms/step - loss: 0.2826 - accuracy: 0.9213\n",
            "Epoch 4/5\n",
            "1875/1875 [==============================] - 2s 1ms/step - loss: 0.2732 - accuracy: 0.9234\n",
            "Epoch 5/5\n",
            "1875/1875 [==============================] - 2s 1ms/step - loss: 0.2665 - accuracy: 0.9261\n"
          ]
        },
        {
          "output_type": "execute_result",
          "data": {
            "text/plain": [
              "<keras.src.callbacks.History at 0x7e77a5efff70>"
            ]
          },
          "metadata": {},
          "execution_count": 39
        }
      ]
    },
    {
      "cell_type": "markdown",
      "source": [
        "#### We'll evaluate our model using in-built evaluate function.The more the score,the more accurate the function is."
      ],
      "metadata": {
        "id": "CzoC1CBOkGLx"
      }
    },
    {
      "cell_type": "code",
      "source": [
        "model.evaluate(X_test_flattend,y_test)"
      ],
      "metadata": {
        "colab": {
          "base_uri": "https://localhost:8080/"
        },
        "id": "mWXMTAi4B4g8",
        "outputId": "1d682067-acce-4a73-ab34-2ca786c3494d"
      },
      "execution_count": null,
      "outputs": [
        {
          "output_type": "stream",
          "name": "stdout",
          "text": [
            "313/313 [==============================] - 0s 976us/step - loss: 0.2702 - accuracy: 0.9243\n"
          ]
        },
        {
          "output_type": "execute_result",
          "data": {
            "text/plain": [
              "[0.2701697051525116, 0.9243000149726868]"
            ]
          },
          "metadata": {},
          "execution_count": 40
        }
      ]
    },
    {
      "cell_type": "code",
      "source": [
        "model.predict(X_test_flattend)"
      ],
      "metadata": {
        "id": "9wuOY96XCpQS",
        "colab": {
          "base_uri": "https://localhost:8080/"
        },
        "outputId": "aa1e4bc6-1506-4b7b-f968-4151c95899ea"
      },
      "execution_count": null,
      "outputs": [
        {
          "output_type": "stream",
          "name": "stdout",
          "text": [
            "313/313 [==============================] - 0s 827us/step\n"
          ]
        },
        {
          "output_type": "execute_result",
          "data": {
            "text/plain": [
              "array([[1.9774821e-02, 5.5540841e-07, 5.4578803e-02, ..., 9.9980521e-01,\n",
              "        9.4518386e-02, 6.5241838e-01],\n",
              "       [3.6531627e-01, 1.0653361e-02, 9.9929768e-01, ..., 8.5716438e-13,\n",
              "        1.6431046e-01, 4.0903072e-09],\n",
              "       [3.2343128e-04, 9.9405771e-01, 6.4205426e-01, ..., 1.3298075e-01,\n",
              "        4.2222294e-01, 5.1888205e-02],\n",
              "       ...,\n",
              "       [3.9289966e-06, 7.1015979e-06, 1.7751111e-03, ..., 2.0126252e-01,\n",
              "        5.2196747e-01, 7.8890437e-01],\n",
              "       [1.1442357e-04, 2.3188243e-04, 2.2702324e-04, ..., 3.4052995e-05,\n",
              "        6.3954633e-01, 1.3725017e-04],\n",
              "       [1.2541064e-02, 1.0760375e-09, 3.0005202e-01, ..., 1.5980987e-08,\n",
              "        2.7205111e-04, 1.6030694e-06]], dtype=float32)"
            ]
          },
          "metadata": {},
          "execution_count": 41
        }
      ]
    },
    {
      "cell_type": "code",
      "source": [
        "y_predicted=model.predict(X_test_flattend)\n",
        "print(y_predicted[0])"
      ],
      "metadata": {
        "colab": {
          "base_uri": "https://localhost:8080/"
        },
        "id": "F6arZiPiDbgB",
        "outputId": "04edef66-133d-4e1c-ad00-0ab368a3e34a"
      },
      "execution_count": null,
      "outputs": [
        {
          "output_type": "stream",
          "name": "stdout",
          "text": [
            "313/313 [==============================] - 0s 1ms/step\n",
            "[1.9774821e-02 5.5540841e-07 5.4578803e-02 9.5856965e-01 1.6573090e-03\n",
            " 1.4856263e-01 1.3735838e-06 9.9980521e-01 9.4518386e-02 6.5241838e-01]\n"
          ]
        }
      ]
    },
    {
      "cell_type": "markdown",
      "source": [
        "### Argmax() function :\n",
        "#####np.argmax returns the maximum element among the elements present in an array.It is used to predict our final values.\n",
        "    Syntax : np.argmax(element)"
      ],
      "metadata": {
        "id": "KOSaF9btkWdh"
      }
    },
    {
      "cell_type": "code",
      "source": [
        "np.argmax(y_predicted[0])"
      ],
      "metadata": {
        "colab": {
          "base_uri": "https://localhost:8080/"
        },
        "id": "Fj0VMQNbDi4N",
        "outputId": "21ab1679-0092-4405-ab74-4928a54c5f01"
      },
      "execution_count": null,
      "outputs": [
        {
          "output_type": "execute_result",
          "data": {
            "text/plain": [
              "7"
            ]
          },
          "metadata": {},
          "execution_count": 43
        }
      ]
    },
    {
      "cell_type": "code",
      "source": [
        "np.argmax(y_predicted[1])"
      ],
      "metadata": {
        "colab": {
          "base_uri": "https://localhost:8080/"
        },
        "id": "LKAzHGECDy6w",
        "outputId": "1072a8a4-e408-4c54-94c4-6e6c60ce5211"
      },
      "execution_count": null,
      "outputs": [
        {
          "output_type": "execute_result",
          "data": {
            "text/plain": [
              "2"
            ]
          },
          "metadata": {},
          "execution_count": 44
        }
      ]
    },
    {
      "cell_type": "markdown",
      "source": [
        "#### As we can see that most of our predictions are correct."
      ],
      "metadata": {
        "id": "T60gSSS3lZuf"
      }
    }
  ]
}